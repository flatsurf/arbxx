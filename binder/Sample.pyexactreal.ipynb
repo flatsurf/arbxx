{
 "cells": [
  {
   "cell_type": "code",
   "execution_count": 7,
   "metadata": {},
   "outputs": [],
   "source": [
    "import cppyy\n",
    "\n",
    "from pyexactreal import exactreal\n",
    "from cppyy.gbl import std"
   ]
  },
  {
   "cell_type": "markdown",
   "metadata": {},
   "source": [
    "exactreal.ZZModule(exactreal.RealNumber.rational(1), exactreal.RealNumber.random(), exactreal.RealNumber.random())"
   ]
  }
 ],
 "metadata": {
  "kernelspec": {
   "display_name": "Python 3",
   "language": "python",
   "name": "python3"
  },
  "language_info": {
   "codemirror_mode": {
    "name": "ipython",
    "version": 3
   },
   "file_extension": ".py",
   "mimetype": "text/x-python",
   "name": "python",
   "nbconvert_exporter": "python",
   "pygments_lexer": "ipython3",
   "version": "3.7.3"
  }
 },
 "nbformat": 4,
 "nbformat_minor": 2
}
